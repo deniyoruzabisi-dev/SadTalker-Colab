{
 "cells": [
  {
   "cell_type": "markdown",
   "metadata": {},
   "source": [
    "# 🚀 SadTalker Colab (Fixed Version for Python 3.12)
",
    "Bu defter SadTalker kurulumunu Colab üzerinde sorunsuz yapmak için hazırlanmıştır.
",
    "- numba==0.59.1
",
    "- numpy==1.26.4
",
    "- opencv-python==4.8.0.76
"
   ]
  },
  {
   "cell_type": "code",
   "execution_count": null,
   "metadata": {},
   "outputs": [],
   "source": [
    "!nvidia-smi"
   ]
  },
  {
   "cell_type": "code",
   "execution_count": null,
   "metadata": {},
   "outputs": [],
   "source": [
    "!git clone https://github.com/OpenTalker/SadTalker.git
",
    "%cd SadTalker"
   ]
  },
  {
   "cell_type": "code",
   "execution_count": null,
   "metadata": {},
   "outputs": [],
   "source": [
    "pip install torch==2.2.2+cu118 torchvision==0.17.2+cu118 torchaudio==2.2.2 --index-url https://download.pytorch.org/whl/cu118"
   ]
  },
  {
   "cell_type": "code",
   "execution_count": null,
   "metadata": {},
   "outputs": [],
   "source": [
    "pip install basicsr==1.4.2 \\
",
    "    gfpgan==1.3.8 \\
",
    "    facexlib==0.3.0 \\
",
    "    opencv-python==4.8.0.76 \\
",
    "    scikit-image==0.24.0 \\
",
    "    numba==0.59.1 \\
",
    "    numpy==1.26.4"
   ]
  },
  {
   "cell_type": "code",
   "execution_count": null,
   "metadata": {},
   "outputs": [],
   "source": [
    "pip install -r requirements.txt"
   ]
  },
  {
   "cell_type": "code",
   "execution_count": null,
   "metadata": {},
   "outputs": [],
   "source": [
    "# Örnek çalıştırma
",
    "!python inference.py --driven_audio ./examples/driven_audio/bus_chinese.wav --source_image ./examples/source_image/art_1.png --result_dir ./results --enhancer gfpgan"
   ]
  }
 ],
 "metadata": {
  "kernelspec": {
   "display_name": "Python 3",
   "language": "python",
   "name": "python3"
  },
  "language_info": {
   "name": "python",
   "version": "3.12"
  }
 },
 "nbformat": 4,
 "nbformat_minor": 2
}